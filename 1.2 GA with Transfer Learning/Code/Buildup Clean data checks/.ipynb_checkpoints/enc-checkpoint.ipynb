{
 "cells": [
  {
   "cell_type": "code",
   "execution_count": 6,
   "id": "b2aee177",
   "metadata": {},
   "outputs": [
    {
     "name": "stdout",
     "output_type": "stream",
     "text": [
      "   gender   age  hypertension  heart_disease smoking_history    bmi  \\\n",
      "0  Female  80.0             0              1           never  25.19   \n",
      "1  Female  54.0             0              0         No Info  27.32   \n",
      "2    Male  28.0             0              0           never  27.32   \n",
      "3  Female  36.0             0              0         current  23.45   \n",
      "4    Male  76.0             1              1         current  20.14   \n",
      "\n",
      "   HbA1c_level  blood_glucose_level  diabetes  \n",
      "0          6.6                  140         0  \n",
      "1          6.6                   80         0  \n",
      "2          5.7                  158         0  \n",
      "3          5.0                  155         0  \n",
      "4          4.8                  155         0  \n",
      "   gender   age  hypertension  heart_disease  smoking_history    bmi  \\\n",
      "0     1.0  80.0             0              1              0.0  25.19   \n",
      "1     1.0  54.0             0              0              1.0  27.32   \n",
      "2     0.0  28.0             0              0              0.0  27.32   \n",
      "3     1.0  36.0             0              0              2.0  23.45   \n",
      "4     0.0  76.0             1              1              2.0  20.14   \n",
      "\n",
      "   HbA1c_level  blood_glucose_level  diabetes  \n",
      "0          6.6                  140         0  \n",
      "1          6.6                   80         0  \n",
      "2          5.7                  158         0  \n",
      "3          5.0                  155         0  \n",
      "4          4.8                  155         0  \n"
     ]
    }
   ],
   "source": [
    "import pandas as pd\n",
    "\n",
    "# Read the CSV file into a DataFrame\n",
    "df = pd.read_csv('diabetes_prediction_dataset - Copy.csv')\n",
    "print(df.head())\n",
    "\n",
    "# Define the mapping dictionary for gender values\n",
    "gender_mapping = {'Male': 1, 'Female': 0, 'Other': 2}  # Add 'other' if it's one of your gender values\n",
    "gender_mapping2 = {'never': 0, 'current': 1, 'current': 2} \n",
    "\n",
    "# Map the gender values using the mapping dictionary\n",
    "df['gender'] = df['gender'].map(gender_mapping)\n",
    "df['smoking_history'] = df['smoking_history'].map(gender_mapping2)\n",
    "\n",
    "# If you have other values in the gender column or missing values, you might want to handle them accordingly\n",
    "\n",
    "# Write the modified DataFrame back to a new CSV file\n",
    "df.to_csv('modified_file2.csv', index=False)\n",
    "\n",
    "alls = pd.read_csv('modified_file2.csv')\n",
    "print(alls.head())\n"
   ]
  },
  {
   "cell_type": "code",
   "execution_count": null,
   "id": "7af235c6",
   "metadata": {},
   "outputs": [],
   "source": []
  }
 ],
 "metadata": {
  "kernelspec": {
   "display_name": "Python 3 (ipykernel)",
   "language": "python",
   "name": "python3"
  },
  "language_info": {
   "codemirror_mode": {
    "name": "ipython",
    "version": 3
   },
   "file_extension": ".py",
   "mimetype": "text/x-python",
   "name": "python",
   "nbconvert_exporter": "python",
   "pygments_lexer": "ipython3",
   "version": "3.11.5"
  }
 },
 "nbformat": 4,
 "nbformat_minor": 5
}
